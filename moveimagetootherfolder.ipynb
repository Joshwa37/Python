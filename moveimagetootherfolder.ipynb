{
 "cells": [
  {
   "cell_type": "code",
   "execution_count": 13,
   "id": "de3f34d5-4731-4c45-ad11-49675bda1c46",
   "metadata": {},
   "outputs": [],
   "source": [
    "import os"
   ]
  },
  {
   "cell_type": "code",
   "execution_count": 36,
   "id": "0055e05d-8d4b-4982-92ef-3110e46ee82a",
   "metadata": {},
   "outputs": [],
   "source": [
    "data_dir='data'\n",
    "image_exts=['jpeg','jpg','bmp','png']\n",
    "datad='filterimage'"
   ]
  },
  {
   "cell_type": "code",
   "execution_count": 56,
   "id": "13e0c903-d846-426c-b7a7-fb2a8bafe710",
   "metadata": {},
   "outputs": [
    {
     "name": "stdout",
     "output_type": "stream",
     "text": [
      "ok\n",
      "ok\n"
     ]
    }
   ],
   "source": [
    "for image_class in os.listdir(data_dir):\n",
    "    print(\"ok\")\n",
    "    for image in os.listdir(os.path.join(data_dir,image_class)):\n",
    "        image_path=os.path.join(data_dir,image_class,image)\n",
    "        img=cv2.imread(image_path)\n",
    "        img1=Image.open(image_path)\n",
    "        tip=img1.format.lower()\n",
    "        print(\"ok\")\n",
    "        if tip in image_exts:\n",
    "            print(\"ok\")\n",
    "            source=data_dir/image_class/image\n",
    "            destination=datad/image_class/image\n",
    "            os.rename(source, destination)"
   ]
  },
  {
   "cell_type": "code",
   "execution_count": 50,
   "id": "58ae2a1a-bc4e-4828-b9fb-0cc5dc474558",
   "metadata": {},
   "outputs": [
    {
     "data": {
      "text/plain": [
       "'filterimage/happy/960x0.jpg'"
      ]
     },
     "execution_count": 50,
     "metadata": {},
     "output_type": "execute_result"
    }
   ],
   "source": [
    "destination"
   ]
  },
  {
   "cell_type": "code",
   "execution_count": null,
   "id": "98289f63-c96e-4bc5-84a1-7ced18e561e7",
   "metadata": {},
   "outputs": [],
   "source": []
  }
 ],
 "metadata": {
  "kernelspec": {
   "display_name": "Python 3 (ipykernel)",
   "language": "python",
   "name": "python3"
  },
  "language_info": {
   "codemirror_mode": {
    "name": "ipython",
    "version": 3
   },
   "file_extension": ".py",
   "mimetype": "text/x-python",
   "name": "python",
   "nbconvert_exporter": "python",
   "pygments_lexer": "ipython3",
   "version": "3.12.4"
  }
 },
 "nbformat": 4,
 "nbformat_minor": 5
}
